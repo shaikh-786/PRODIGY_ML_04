# === Step 1: Install Required Libraries ===
!pip install kaggle
!pip install tensorflow numpy matplotlib scikit-learn

# === Step 2: Upload Your Kaggle API Key ===
from google.colab import files
files.upload()  # Upload your kaggle.json file here.

# === Step 3: Setup Kaggle API ===
!mkdir -p ~/.kaggle
!cp kaggle.json ~/.kaggle/
!chmod 600 ~/.kaggle/kaggle.json

# === Step 4: Download GTI-UPM Leap Gesture Dataset ===
!kaggle datasets download -d gti-upm/leapgestrecog
!unzip leapgestrecog.zip -d leap_data

# === Step 5: Data Preprocessing ===
import os
import numpy as np
import cv2
from sklearn.model_selection import train_test_split
from tensorflow.keras.utils import to_categorical

# Define path
dataset_path = 'leap_data/leapGestRecog/00/'
classes = os.listdir(dataset_path)  # Fist, Palm, etc.

# Map class names to numeric labels
class_map = {cls_name: idx for idx, cls_name in enumerate(classes)}
print("Class Mapping:", class_map)

# Read images & labels
X = []
y = []

for cls_name in classes:
    cls_folder = os.path.join(dataset_path, cls_name)
    for img_name in os.listdir(cls_folder):
        img_path = os.path.join(cls_folder, img_name)
        img = cv2.imread(img_path, cv2.IMREAD_GRAYSCALE)  # Read in grayscale
        img = cv2.resize(img, (64, 64))  # Resize to 64x64
        X.append(img)
        y.append(class_map[cls_name])

X = np.array(X).reshape(-1, 64, 64, 1) / 255.0  # Normalize to 0-1
y = to_categorical(y)  # One-hot encode

# Split dataset
X_train, X_test, y_train, y_test = train_test_split(
    X, y, test_size=0.2, random_state=42
)

# === Step 6: Build CNN Model ===
from tensorflow.keras.models import Sequential
from tensorflow.keras.layers import Conv2D, MaxPooling2D, Flatten, Dense, Dropout

model = Sequential([
    Conv2D(32, (3,3), activation='relu', input_shape=(64, 64, 1)),
    MaxPooling2D((2,2)),
    
    Conv2D(64, (3,3), activation='relu'),
    MaxPooling2D((2,2)),
    
    Flatten(),
    Dense(128, activation='relu'),
    Dropout(0.5),
    Dense(len(classes), activation='softmax')
])

model.compile(optimizer='adam',
              loss='categorical_crossentropy',
              metrics=['accuracy'])

# === Step 7: Train the Model ===
history = model.fit(
    X_train, y_train,
    epochs=15,
    batch_size=32,
    validation_split=0.2
)

# === Step 8: Evaluate ===
test_loss, test_acc = model.evaluate(X_test, y_test)
print(f"Test Accuracy: {test_acc * 100:.2f}%")

# === Step 9: Plot Accuracy and Loss ===
import matplotlib.pyplot as plt

plt.figure(figsize=(12,5))
plt.subplot(1,2,1)
plt.plot(history.history['accuracy'], label='Train Accuracy')
plt.plot(history.history['val_accuracy'], label='Validation Accuracy')
plt.legend()
plt.title('Model Accuracy')

plt.subplot(1,2,2)
plt.plot(history.history['loss'], label='Train Loss')
plt.plot(history.history['val_loss'], label='Validation Loss')
plt.legend()
plt.title('Model Loss')

plt.show()
